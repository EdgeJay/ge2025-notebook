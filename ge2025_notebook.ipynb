{
 "cells": [
  {
   "cell_type": "code",
   "execution_count": 1,
   "metadata": {},
   "outputs": [],
   "source": [
    "from pathlib import Path\n",
    "\n",
    "def create_folder(path):\n",
    "    \"\"\"\n",
    "    Create a folder if it doesn't exist.\n",
    "    \"\"\"\n",
    "    folder_path = Path(path)\n",
    "    folder_path.mkdir(parents=True, exist_ok=True)"
   ]
  },
  {
   "cell_type": "code",
   "execution_count": 2,
   "metadata": {},
   "outputs": [
    {
     "name": "stdout",
     "output_type": "stream",
     "text": [
      "Found 33 tables on the page\n"
     ]
    }
   ],
   "source": [
    "from bs4 import BeautifulSoup\n",
    "import requests\n",
    "\n",
    "url = 'https://www.eld.gov.sg/finalresults2025.html'\n",
    "response = requests.get(url)\n",
    "soup = BeautifulSoup(response.content, 'html.parser')\n",
    "tables = soup.find_all('table')\n",
    "print(f\"Found {len(tables)} tables on the page\")\n",
    "\n",
    "constituencies = []\n",
    "electors_per_constituency = []\n",
    "# store votes for each party\n",
    "votes_casted_per_constituency = [0] * len(tables)\n",
    "votes_shortfall_per_constituency = [0] * len(tables)\n",
    "votes_by_party = {\n",
    "    'PAP': [0] * len(tables),\n",
    "    'WP': [0] * len(tables),\n",
    "    'SDP': [0] * len(tables),\n",
    "    'PPP': [0] * len(tables),\n",
    "    'SUP': [0] * len(tables),\n",
    "    'PSP': [0] * len(tables),\n",
    "    'SPP': [0] * len(tables),\n",
    "    'RDU': [0] * len(tables),\n",
    "    'PAR': [0] * len(tables),\n",
    "    'SDA': [0] * len(tables),\n",
    "    'NSP': [0] * len(tables),\n",
    "    'IND': [0] * len(tables),\n",
    "}\n",
    "\n",
    "for i, table in enumerate(tables):\n",
    "    num_electors_elem = table.parent.find_previous_sibling('b')\n",
    "    num_electors_str = num_electors_elem.get_text(strip=True)\n",
    "    number_part = num_electors_str.split(\"Number of Electors: \")[1]\n",
    "    num = int(number_part.replace(\",\", \"\"))\n",
    "    electors_per_constituency.append(num)\n",
    "\n",
    "    constituency_elem = num_electors_elem.find_previous_sibling('h3')\n",
    "    constituency_name = constituency_elem.get_text(strip=True)\n",
    "    constituencies.append(constituency_name)\n",
    "\n",
    "    votes_casted = 0\n",
    "    # get votes for each party\n",
    "    rows = table.find_all('tr')\n",
    "    for row in rows:\n",
    "        cells = row.find_all('td')\n",
    "        if len(cells) > 2:\n",
    "            party_name = cells[1].get_text(strip=True)\n",
    "            if party_name == '-':\n",
    "                party_name = 'IND'\n",
    "            \n",
    "            votes = cells[2].get_text(strip=True)\n",
    "            if '(' in votes:\n",
    "                votes = votes.split('(')[0]\n",
    "            \n",
    "            if votes == 'Uncontested':\n",
    "                votes_by_party[party_name][i] = num\n",
    "            else:\n",
    "                votes_by_party[party_name][i] = int(votes.replace(\",\", \"\"))\n",
    "\n",
    "            votes_casted += votes_by_party[party_name][i]\n",
    "\n",
    "    votes_casted_per_constituency[i] = votes_casted\n",
    "    votes_shortfall_per_constituency[i] = num - votes_casted\n",
    "# print(constituencies)\n",
    "# print(electors_per_constituency)\n",
    "\n"
   ]
  },
  {
   "cell_type": "code",
   "execution_count": 3,
   "metadata": {},
   "outputs": [
    {
     "name": "stdout",
     "output_type": "stream",
     "text": [
      "Votes Casted: 91.28%\n",
      "Votes Shortfall: 8.72%\n"
     ]
    }
   ],
   "source": [
    "import pandas as pd\n",
    "\n",
    "# Create a DataFrame with the two arrays\n",
    "df = pd.DataFrame({\n",
    "    'Constituency': constituencies,\n",
    "    'Number of Electors': electors_per_constituency,\n",
    "    'Votes Casted': votes_casted_per_constituency,\n",
    "    'Votes Shortfall': votes_shortfall_per_constituency,\n",
    "    'PAP': votes_by_party['PAP'],\n",
    "    'WP': votes_by_party['WP'],\n",
    "    'SDP': votes_by_party['SDP'],\n",
    "    'PPP': votes_by_party['PPP'],\n",
    "    'SUP': votes_by_party['SUP'],\n",
    "    'PSP': votes_by_party['PSP'],\n",
    "    'SPP': votes_by_party['SPP'],\n",
    "    'RDU': votes_by_party['RDU'],\n",
    "    'PAR': votes_by_party['PAR'],\n",
    "    'SDA': votes_by_party['SDA'],\n",
    "    'NSP': votes_by_party['NSP'],\n",
    "    'IND': votes_by_party['IND'],\n",
    "})\n",
    "\n",
    "# Create a dictionary for the totals row\n",
    "totals = {'Constituency': 'TOTAL'}\n",
    "\n",
    "# Sum up each numeric column\n",
    "for column in df.columns:\n",
    "    if column != 'Constituency':  # Skip the non-numeric column\n",
    "        totals[column] = df[column].sum()\n",
    "\n",
    "# Create a DataFrame from the totals dictionary\n",
    "totals_df = pd.DataFrame([totals])\n",
    "\n",
    "# Concatenate the original DataFrame with the totals DataFrame\n",
    "df_with_totals = pd.concat([df, totals_df], ignore_index=True)\n",
    "\n",
    "# Save to CSV\n",
    "create_folder('./out')\n",
    "df_with_totals.to_csv('./out/constituency_electors.csv', index=False)\n",
    "\n",
    "# Print votes casted percentage\n",
    "print(f'Votes Casted: {df[\"Votes Casted\"].sum() / df[\"Number of Electors\"].sum() * 100:.2f}%')\n",
    "# Print the total votes shortfall percentage\n",
    "print(f'Votes Shortfall: {df[\"Votes Shortfall\"].sum() / df[\"Number of Electors\"].sum() * 100:.2f}%')"
   ]
  },
  {
   "cell_type": "code",
   "execution_count": 5,
   "metadata": {},
   "outputs": [
    {
     "name": "stdout",
     "output_type": "stream",
     "text": [
      "      Constituency  PAP_Vote_Share  Max_Opposition_Share Max_Opposition_Party  \\\n",
      "0         ALJUNIED       40.317160             59.682840                   WP   \n",
      "7          HOUGANG       37.833364             62.166636                   WP   \n",
      "11      JALAN KAYU       51.469730             48.530270                   WP   \n",
      "26  SEMBAWANG WEST       53.190639             46.809361                  SDP   \n",
      "27        SENGKANG       43.689773             56.310227                   WP   \n",
      "29        TAMPINES       52.016255             47.370529                   WP   \n",
      "\n",
      "    Could_Flip  Votes Shortfall  \n",
      "0         True            12188  \n",
      "7         True             2279  \n",
      "11        True             2208  \n",
      "26        True             1687  \n",
      "27        True             8920  \n",
      "29        True            10810  \n"
     ]
    }
   ],
   "source": [
    "# Analyze whether the votes shortfall could have swing the result in favour of opposition (non-PAP) parties\n",
    "from row_analysis import analyze_vectorized\n",
    "\n",
    "# Add this to your notebook\n",
    "analysis_results = analyze_vectorized(df)\n",
    "flippable_constituencies = analysis_results[analysis_results['Could_Flip']]\n",
    "print(flippable_constituencies[['Constituency', 'PAP_Vote_Share', 'Max_Opposition_Share', 'Max_Opposition_Party','Could_Flip','Votes Shortfall']])"
   ]
  }
 ],
 "metadata": {
  "kernelspec": {
   "display_name": "venv",
   "language": "python",
   "name": "python3"
  },
  "language_info": {
   "codemirror_mode": {
    "name": "ipython",
    "version": 3
   },
   "file_extension": ".py",
   "mimetype": "text/x-python",
   "name": "python",
   "nbconvert_exporter": "python",
   "pygments_lexer": "ipython3",
   "version": "3.12.10"
  }
 },
 "nbformat": 4,
 "nbformat_minor": 2
}
